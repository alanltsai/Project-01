{
 "cells": [
  {
   "cell_type": "code",
   "execution_count": 1,
   "metadata": {},
   "outputs": [],
   "source": [
    "# Dependencies and Setup\n",
    "import matplotlib.pyplot as plt\n",
    "import pandas as pd\n",
    "import numpy as np\n",
    "import requests\n",
    "import time\n",
    "import datetime"
   ]
  },
  {
   "cell_type": "code",
   "execution_count": 13,
   "metadata": {},
   "outputs": [],
   "source": [
    "url=\"https://www.ncdc.noaa.gov/cdo-web/api/v2//datasets?datatypeid=TOBS?startdate=1970-01-01\"\n",
    "base_url=\"https://www.ncdc.noaa.gov/cdo-web/api/v2//datasets?\""
   ]
  },
  {
   "cell_type": "code",
   "execution_count": 23,
   "metadata": {},
   "outputs": [
    {
     "name": "stdout",
     "output_type": "stream",
     "text": [
      "Request status code: 200\n",
      "{'metadata': {'resultset': {'offset': 1, 'count': 1, 'limit': 25}}, 'results': [{'uid': 'gov.noaa.ncdc:C00861', 'mindate': '1763-01-01', 'maxdate': '2019-03-31', 'name': 'Daily Summaries', 'datacoverage': 1, 'id': 'GHCND'}]}\n"
     ]
    }
   ],
   "source": [
    "token = {'token': 'SZKoEEBBWxsAEeozDvmURzmMMinpvsbu'}\n",
    "mytoken = 'SZKoEEBBWxsAEeozDvmURzmMMinpvsbu'\n",
    "datatypeid = 'TOBS'\n",
    "begin_date='1970-01-01'\n",
    "end_date='2018-01-01'\n",
    "#passing as string instead of dict because NOAA API does not like percent encoding\n",
    "params = 'datatypeid='+str(datatypeid)+'&'+'startdate='+str(begin_date)+'&'+'enddate='+str(end_date)+'&'+'limit=25'\n",
    "    \n",
    "r = requests.get(base_url, params = params, headers=token)\n",
    "print(\"Request status code: \"+str(r.status_code))\n",
    "print(r.json())"
   ]
  },
  {
   "cell_type": "code",
   "execution_count": 24,
   "metadata": {},
   "outputs": [],
   "source": [
    "r = requests.get(url, headers=token).json()"
   ]
  },
  {
   "cell_type": "code",
   "execution_count": 25,
   "metadata": {},
   "outputs": [
    {
     "name": "stdout",
     "output_type": "stream",
     "text": [
      "{}\n"
     ]
    }
   ],
   "source": [
    "print(r)"
   ]
  },
  {
   "cell_type": "code",
   "execution_count": 30,
   "metadata": {},
   "outputs": [],
   "source": []
  },
  {
   "cell_type": "code",
   "execution_count": 34,
   "metadata": {},
   "outputs": [
    {
     "name": "stdout",
     "output_type": "stream",
     "text": [
      "Request status code: 200\n",
      "{'metadata': {'resultset': {'offset': 1, 'count': 1, 'limit': 25}}, 'results': [{'uid': 'gov.noaa.ncdc:C00861', 'mindate': '1763-01-01', 'maxdate': '2019-03-31', 'name': 'Daily Summaries', 'datacoverage': 1, 'id': 'GHCND'}]}\n"
     ]
    }
   ],
   "source": [
    "token = {'token': 'SZKoEEBBWxsAEeozDvmURzmMMinpvsbu'}\n",
    "\n",
    "base_url = 'https://www.ncdc.noaa.gov/cdo-web/api/v2/datasets?datatypeid=TOBS'   \n",
    "r = requests.get(base_url, headers=token)\n",
    "\n",
    "print(\"Request status code: \"+str(r.status_code))\n",
    "print(r.json())\n",
    "r['results']['id']"
   ]
  },
  {
   "cell_type": "code",
   "execution_count": 53,
   "metadata": {},
   "outputs": [
    {
     "name": "stdout",
     "output_type": "stream",
     "text": [
      "Request status code: 200\n"
     ]
    },
    {
     "data": {
      "text/plain": [
       "{'metadata': {'resultset': {'offset': 1, 'count': 3, 'limit': 25}},\n",
       " 'results': [{'date': '2010-05-01T00:00:00',\n",
       "   'datatype': 'PRCP',\n",
       "   'station': 'GHCND:IRM00040729',\n",
       "   'attributes': ',,S,',\n",
       "   'value': 3},\n",
       "  {'date': '2010-05-01T00:00:00',\n",
       "   'datatype': 'TAVG',\n",
       "   'station': 'GHCND:IRM00040729',\n",
       "   'attributes': 'H,,S,',\n",
       "   'value': 142},\n",
       "  {'date': '2010-05-01T00:00:00',\n",
       "   'datatype': 'TMAX',\n",
       "   'station': 'GHCND:IRM00040729',\n",
       "   'attributes': ',,S,',\n",
       "   'value': 194}]}"
      ]
     },
     "execution_count": 53,
     "metadata": {},
     "output_type": "execute_result"
    }
   ],
   "source": [
    "base_url = 'https://www.ncdc.noaa.gov/cdo-web/api/v2/data?datasetid=GHCND&locationid=CITY:IR000020&startdate=2010-05-01&enddate=2010-05-01'\n",
    "r = requests.get(base_url, headers=token)\n",
    "\n",
    "print(\"Request status code: \"+str(r.status_code))\n",
    "data_json = r.json()\n",
    "data_json"
   ]
  },
  {
   "cell_type": "code",
   "execution_count": null,
   "metadata": {},
   "outputs": [],
   "source": []
  }
 ],
 "metadata": {
  "kernelspec": {
   "display_name": "Python 3",
   "language": "python",
   "name": "python3"
  },
  "language_info": {
   "codemirror_mode": {
    "name": "ipython",
    "version": 3
   },
   "file_extension": ".py",
   "mimetype": "text/x-python",
   "name": "python",
   "nbconvert_exporter": "python",
   "pygments_lexer": "ipython3",
   "version": "3.6.7"
  }
 },
 "nbformat": 4,
 "nbformat_minor": 2
}
