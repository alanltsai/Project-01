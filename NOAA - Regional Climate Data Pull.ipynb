{
 "cells": [
  {
   "cell_type": "code",
   "execution_count": 1,
   "metadata": {},
   "outputs": [],
   "source": [
    "import requests\n",
    "import json"
   ]
  },
  {
   "cell_type": "code",
   "execution_count": 3,
   "metadata": {},
   "outputs": [],
   "source": [
    "def get_noaa_data():\n",
    "    base_url = r'https://www.ncdc.noaa.gov/cdo-web/api/v2/locationcategories'\n",
    "    #end_point = 'locationcategories'\n",
    "    api_token = 'PwQBxBjOzMbAjNGekcAaFsMUoDLlRFjY'\n",
    "    start_date = '2000-01-01'\n",
    "    end_date = '2019-01-01'\n",
    "    params = {\n",
    "              datasetid:'TEMP',\n",
    "              token:api_token,\n",
    "              startdate:start_date,\n",
    "              enddate:end_date,\n",
    "              }\n",
    "    r = reqeusts.get(base_url, )"
   ]
  },
  {
   "cell_type": "code",
   "execution_count": null,
   "metadata": {},
   "outputs": [],
   "source": []
  }
 ],
 "metadata": {
  "kernelspec": {
   "display_name": "Python 3",
   "language": "python",
   "name": "python3"
  },
  "language_info": {
   "codemirror_mode": {
    "name": "ipython",
    "version": 3
   },
   "file_extension": ".py",
   "mimetype": "text/x-python",
   "name": "python",
   "nbconvert_exporter": "python",
   "pygments_lexer": "ipython3",
   "version": "3.6.7"
  }
 },
 "nbformat": 4,
 "nbformat_minor": 2
}
